{
 "cells": [
  {
   "cell_type": "markdown",
   "metadata": {},
   "source": [
    "## Individual assignment\n",
    "\n",
    "### Wine reviews JSON dataset\n",
    "\n",
    "Using the attached dataset *wine.json* please answer the questions proposed in this notebook. Create new cells as needed after each questions to get to the answer. "
   ]
  },
  {
   "cell_type": "markdown",
   "metadata": {},
   "source": [
    "### 0. Load the data as a Python object and print the first item"
   ]
  },
  {
   "cell_type": "code",
   "execution_count": 4,
   "metadata": {},
   "outputs": [],
   "source": [
    "import json\n",
    "import os\n",
    "\n",
    "with open(\"wine.json\") as f:\n",
    "    wines = json.load(f)"
   ]
  },
  {
   "cell_type": "markdown",
   "metadata": {},
   "source": [
    "### 1. How many wine reviews are included in the dataset? (1 point)"
   ]
  },
  {
   "cell_type": "code",
   "execution_count": 5,
   "metadata": {},
   "outputs": [
    {
     "name": "stdout",
     "output_type": "stream",
     "text": [
      "The dataset has 129971 wine reviews\n"
     ]
    }
   ],
   "source": [
    "count = 0\n",
    "\n",
    "reviews = list(wine[\"title\"] for wine in wines)\n",
    "\n",
    "for element in reviews:\n",
    "    count += 1\n",
    "    \n",
    "print(f\"The dataset has {count} wine reviews\")"
   ]
  },
  {
   "cell_type": "markdown",
   "metadata": {},
   "source": [
    "### 2. Add a new {key:value} pair in each item in the list (1 point)\n",
    "\n",
    "The new key should be called *length* and it should indicate the amount of words in the *description* value.\n",
    "\n",
    "For example, the following description:\n",
    "* \"Very strong taste like apple and cinnamon\"\n",
    "\n",
    "should have a *length* value of **7** "
   ]
  },
  {
   "cell_type": "code",
   "execution_count": 6,
   "metadata": {},
   "outputs": [
    {
     "data": {
      "text/plain": [
       "{'points': '87',\n",
       " 'title': 'Nicosia 2013 Vulkà Bianco  (Etna)',\n",
       " 'description': \"Aromas include tropical fruit, broom, brimstone and dried herb. The palate isn't overly expressive, offering unripened apple, citrus and dried sage alongside brisk acidity.\",\n",
       " 'taster_name': 'Kerin O’Keefe',\n",
       " 'taster_twitter_handle': '@kerinokeefe',\n",
       " 'price': None,\n",
       " 'designation': 'Vulkà Bianco',\n",
       " 'variety': 'White Blend',\n",
       " 'region_1': 'Etna',\n",
       " 'region_2': None,\n",
       " 'province': 'Sicily & Sardinia',\n",
       " 'country': 'Italy',\n",
       " 'winery': 'Nicosia',\n",
       " 'length': 24}"
      ]
     },
     "execution_count": 6,
     "metadata": {},
     "output_type": "execute_result"
    }
   ],
   "source": [
    "for wine in wines:\n",
    "    wine[\"length\"] = len(wine[\"description\"].split())\n",
    "\n",
    "wines[0]"
   ]
  },
  {
   "cell_type": "markdown",
   "metadata": {},
   "source": [
    "### 3. How many different countries have wines reviewed in the dataset? (1 point)"
   ]
  },
  {
   "cell_type": "code",
   "execution_count": 7,
   "metadata": {},
   "outputs": [
    {
     "name": "stdout",
     "output_type": "stream",
     "text": [
      "The data has wine reviews of 43 different countries\n"
     ]
    }
   ],
   "source": [
    "count = 0\n",
    "\n",
    "countries = {wine[\"country\"] for wine in wines if wine[\"country\"] != None}\n",
    "\n",
    "for element in countries:\n",
    "    count += 1\n",
    "\n",
    "print(f\"The data has wine reviews of {count} different countries\")"
   ]
  },
  {
   "cell_type": "markdown",
   "metadata": {},
   "source": [
    "### 4. Build a dictionary with the following structure: (1 point)\n",
    "\n",
    "{country: number of wines reviewed coming from that country}"
   ]
  },
  {
   "cell_type": "code",
   "execution_count": 8,
   "metadata": {},
   "outputs": [
    {
     "data": {
      "text/plain": [
       "{'Austria': 3345,\n",
       " 'Turkey': 90,\n",
       " 'Luxembourg': 6,\n",
       " 'Croatia': 73,\n",
       " 'Argentina': 3800,\n",
       " 'New Zealand': 1419,\n",
       " 'South Africa': 1401,\n",
       " 'Cyprus': 11,\n",
       " 'Uruguay': 109,\n",
       " 'Ukraine': 14,\n",
       " 'Australia': 2329,\n",
       " 'US': 54504,\n",
       " 'Morocco': 28,\n",
       " 'Georgia': 86,\n",
       " 'Chile': 4472,\n",
       " 'Bosnia and Herzegovina': 2,\n",
       " 'England': 74,\n",
       " None: 63,\n",
       " 'Macedonia': 12,\n",
       " 'Romania': 120,\n",
       " 'France': 22093,\n",
       " 'Hungary': 146,\n",
       " 'China': 1,\n",
       " 'India': 9,\n",
       " 'Lebanon': 35,\n",
       " 'Czech Republic': 12,\n",
       " 'Spain': 6645,\n",
       " 'Moldova': 59,\n",
       " 'Switzerland': 7,\n",
       " 'Slovakia': 1,\n",
       " 'Brazil': 52,\n",
       " 'Peru': 16,\n",
       " 'Italy': 19540,\n",
       " 'Armenia': 2,\n",
       " 'Mexico': 70,\n",
       " 'Egypt': 1,\n",
       " 'Israel': 505,\n",
       " 'Portugal': 5691,\n",
       " 'Serbia': 12,\n",
       " 'Germany': 2165,\n",
       " 'Greece': 466,\n",
       " 'Canada': 257,\n",
       " 'Slovenia': 87,\n",
       " 'Bulgaria': 141}"
      ]
     },
     "execution_count": 8,
     "metadata": {},
     "output_type": "execute_result"
    }
   ],
   "source": [
    "countries = {wine[\"country\"] for wine in wines}\n",
    "\n",
    "new_dict = {}\n",
    "\n",
    "for country in countries:\n",
    "    count_reviews = 0\n",
    "    for wine in wines:\n",
    "        if wine[\"country\"] == country:\n",
    "            count_reviews += 1\n",
    "    new_dict[country] = count_reviews\n",
    "\n",
    "new_dict"
   ]
  },
  {
   "cell_type": "markdown",
   "metadata": {},
   "source": [
    "### 5. Build a dictionary with the following structure (1 point)\n",
    "{country: average points of wines coming from that country]"
   ]
  },
  {
   "cell_type": "code",
   "execution_count": 9,
   "metadata": {},
   "outputs": [
    {
     "data": {
      "text/plain": [
       "{'Austria': 90.1,\n",
       " 'Turkey': 88.09,\n",
       " 'Luxembourg': 88.67,\n",
       " 'Croatia': 87.22,\n",
       " 'Argentina': 86.71,\n",
       " 'New Zealand': 88.3,\n",
       " 'South Africa': 88.06,\n",
       " 'Cyprus': 87.18,\n",
       " 'Uruguay': 86.75,\n",
       " 'Ukraine': 84.07,\n",
       " 'Australia': 88.58,\n",
       " 'US': 88.56,\n",
       " 'Morocco': 88.57,\n",
       " 'Georgia': 87.69,\n",
       " 'Chile': 86.49,\n",
       " 'Bosnia and Herzegovina': 86.5,\n",
       " 'England': 91.58,\n",
       " None: 88.63,\n",
       " 'Macedonia': 86.83,\n",
       " 'Romania': 86.4,\n",
       " 'France': 88.85,\n",
       " 'Hungary': 89.19,\n",
       " 'China': 89.0,\n",
       " 'India': 90.22,\n",
       " 'Lebanon': 87.69,\n",
       " 'Czech Republic': 87.25,\n",
       " 'Spain': 87.29,\n",
       " 'Moldova': 87.2,\n",
       " 'Switzerland': 88.57,\n",
       " 'Slovakia': 87.0,\n",
       " 'Brazil': 84.67,\n",
       " 'Peru': 83.56,\n",
       " 'Italy': 88.56,\n",
       " 'Armenia': 87.5,\n",
       " 'Mexico': 85.26,\n",
       " 'Egypt': 84.0,\n",
       " 'Israel': 88.47,\n",
       " 'Portugal': 88.25,\n",
       " 'Serbia': 87.5,\n",
       " 'Germany': 89.85,\n",
       " 'Greece': 87.28,\n",
       " 'Canada': 89.37,\n",
       " 'Slovenia': 88.07,\n",
       " 'Bulgaria': 87.94}"
      ]
     },
     "execution_count": 9,
     "metadata": {},
     "output_type": "execute_result"
    }
   ],
   "source": [
    "new_dict_2 = {}\n",
    "\n",
    "countries = {wine[\"country\"] for wine in wines}\n",
    "\n",
    "for country in countries:\n",
    "    sum_points = 0\n",
    "    count_rev = 0\n",
    "    for wine in wines:\n",
    "        if wine[\"country\"] == country:\n",
    "            count_rev += 1\n",
    "            sum_points += int(wine[\"points\"])\n",
    "    new_dict_2[country] = round((sum_points / count_rev), 2)\n",
    "\n",
    "new_dict_2"
   ]
  },
  {
   "cell_type": "markdown",
   "metadata": {},
   "source": [
    "### 6. What's the province that produces the wines with the highest rating? (1 point)"
   ]
  },
  {
   "cell_type": "code",
   "execution_count": 10,
   "metadata": {},
   "outputs": [
    {
     "data": {
      "text/plain": [
       "('Südburgenland', 94.0)"
      ]
     },
     "execution_count": 10,
     "metadata": {},
     "output_type": "execute_result"
    }
   ],
   "source": [
    "new_dict_3 = {}\n",
    "province = {wine[\"province\"] for wine in wines}\n",
    "\n",
    "for prov in province:\n",
    "    sum_points = 0\n",
    "    count_rev = 0\n",
    "    for wine in wines:\n",
    "        if wine[\"province\"] == prov:\n",
    "            sum_points += int(wine[\"points\"])\n",
    "            count_rev += 1\n",
    "    new_dict_3[prov] = round((sum_points/count_rev), 2)\n",
    "\n",
    "a = sorted(new_dict_3.items(), key = lambda x: x[1])\n",
    "\n",
    "highest_rating = a[-1]\n",
    "\n",
    "highest_rating"
   ]
  },
  {
   "cell_type": "markdown",
   "metadata": {},
   "source": [
    "### 7. Update each wine's description by adding at the end of each description the following piece of text (1 point):\n",
    "\n",
    "\"This is a {designation} from {country} that scored {points} points\""
   ]
  },
  {
   "cell_type": "code",
   "execution_count": 11,
   "metadata": {},
   "outputs": [
    {
     "data": {
      "text/plain": [
       "{'points': '87',\n",
       " 'title': 'Nicosia 2013 Vulkà Bianco  (Etna)',\n",
       " 'description': \"Aromas include tropical fruit, broom, brimstone and dried herb. The palate isn't overly expressive, offering unripened apple, citrus and dried sage alongside brisk acidity. This is a Vulkà Bianco from Italy that scored 87 points\",\n",
       " 'taster_name': 'Kerin O’Keefe',\n",
       " 'taster_twitter_handle': '@kerinokeefe',\n",
       " 'price': None,\n",
       " 'designation': 'Vulkà Bianco',\n",
       " 'variety': 'White Blend',\n",
       " 'region_1': 'Etna',\n",
       " 'region_2': None,\n",
       " 'province': 'Sicily & Sardinia',\n",
       " 'country': 'Italy',\n",
       " 'winery': 'Nicosia',\n",
       " 'length': 24}"
      ]
     },
     "execution_count": 11,
     "metadata": {},
     "output_type": "execute_result"
    }
   ],
   "source": [
    "for wine in wines:\n",
    "    description = wine[\"description\"]\n",
    "    designation = wine[\"designation\"]\n",
    "    country = wine[\"country\"]\n",
    "    points = wine[\"points\"]\n",
    "\n",
    "    # excluding none values\n",
    "    if designation == None:\n",
    "        wine[\"description\"] = description + f\" This is a wine from an unkonwn designation from {country} that scored {points} points\"\n",
    "    elif country == None:\n",
    "        wine[\"description\"] = description + f\" This is a {designation} from an unkown country that scored {points} points\"\n",
    "    elif designation == None and country == None:\n",
    "        wine[\"description\"] = description + f\" This is a wine from an unkown designation and an unknown country that scored {points} points\"\n",
    "    else:\n",
    "        wine[\"description\"] = description + f\" This is a {designation} from {country} that scored {points} points\"\n",
    "       \n",
    "wines[0]"
   ]
  },
  {
   "cell_type": "markdown",
   "metadata": {},
   "source": [
    "### 8. What's the proportion of wine tasters that have a Twitter account? (1 point)"
   ]
  },
  {
   "cell_type": "code",
   "execution_count": 12,
   "metadata": {},
   "outputs": [
    {
     "name": "stdout",
     "output_type": "stream",
     "text": [
      "84.21 percent of wine tasters have a Twitter account.\n"
     ]
    }
   ],
   "source": [
    "twitter_users = [wine[\"taster_twitter_handle\"] for wine in wines]\n",
    "wine_tasters = [wine[\"taster_name\"] for wine in wines]\n",
    "wine_twitter_dict = dict(zip(wine_tasters, twitter_users))\n",
    "\n",
    "no_of_twitter_users = len([t for t in wine_twitter_dict.values() if t is not None])\n",
    "no_of_wine_tasters = len([tasters for tasters in wine_twitter_dict.keys() if tasters is not None])\n",
    "\n",
    "proportion = no_of_twitter_users/no_of_wine_tasters\n",
    "\n",
    "print(f\"{round(proportion * 100, 2)} percent of wine tasters have a Twitter account.\")"
   ]
  }
 ],
 "metadata": {
  "kernelspec": {
   "display_name": "Python 3",
   "language": "python",
   "name": "python3"
  },
  "language_info": {
   "codemirror_mode": {
    "name": "ipython",
    "version": 3
   },
   "file_extension": ".py",
   "mimetype": "text/x-python",
   "name": "python",
   "nbconvert_exporter": "python",
   "pygments_lexer": "ipython3",
   "version": "3.8.5"
  }
 },
 "nbformat": 4,
 "nbformat_minor": 4
}
